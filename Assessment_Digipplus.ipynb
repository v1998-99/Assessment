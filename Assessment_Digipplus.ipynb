{
  "cells": [
    {
      "cell_type": "code",
      "execution_count": 3,
      "id": "fa999c02",
      "metadata": {
        "id": "fa999c02"
      },
      "outputs": [],
      "source": [
        "class Rate:\n",
        "    def __init__(self,score,par_score,team_1,team_2):\n",
        "        self.score_1 = score\n",
        "        self.score_2 = 0 #Starting the score of second batting team with 0\n",
        "        self.par_score = par_score  \n",
        "        self.percent_1 = 0   #percent or rate for first batting team\n",
        "        self.percent_2 = 0   #percent or rate for second batting team\n",
        "        self.team_1 = team_1 #name of team\n",
        "        self.team_2 = team_2 #name of team\n",
        "        self.fav_1 = ''      #team_1 favourite to win \n",
        "        self.fav_2 = ''      #team_2 favourite to win \n",
        "        self.menu()\n",
        "        \n",
        "    def menu(self):\n",
        "        s = input(\"\"\"\n",
        "        1.Press 1 to update score\n",
        "        2.exit! :  \"\"\")\n",
        "    \n",
        "        if(s=='1'):\n",
        "            self.predict_rate()\n",
        "        else:\n",
        "            exit()\n",
        "        \n",
        "        \n",
        "        \n",
        "    def predict_rate(self):\n",
        "        if self.score_1>self.par_score:\n",
        "            score = int(input(\"Enter the Score of Team Batting Second: \"))\n",
        "            self.score_2 = score\n",
        "            self.percent_1 = (self.score_1/self.par_score)*100\n",
        "            self.percent_2 = (self.score_2/self.par_score)*100\n",
        "            \n",
        "            if (self.percent_1>self.percent_2):\n",
        "                self.fav_1 = self.team_1\n",
        "            else:\n",
        "                self.fav_2 = self.team_2\n",
        "     \n",
        "            \n",
        "        elif self.score_1<self.par_score:\n",
        "            score = int(input(\"Enter the Score of Team Batting Second: \"))\n",
        "            self.score_2 = score\n",
        "            self.percent_1 = (self.score_1/self.par_score)*100\n",
        "            self.percent_2 = (self.score_2/self.par_score)*100\n",
        "            \n",
        "            if (self.percent_1>self.percent_2):\n",
        "                self.fav_1 = self.team_1\n",
        "            else:\n",
        "                self.fav_2 = self.team_2\n",
        "                \n",
        "        print(\"Rate: \",self.percent_1)\n",
        "        print(\"Rate: \",self.percent_2)\n",
        "        \n",
        "        if(self.fav_1==''):\n",
        "            print(\"Favourite: \",self.fav_2)\n",
        "        else:\n",
        "            print(\"Favourite: \",self.fav_1)\n",
        "        \n",
        "        self.menu()\n",
        "        \n",
        "            \n",
        "            \n",
        "        "
      ]
    },
    {
      "cell_type": "code",
      "execution_count": 4,
      "id": "b7b7f0b9",
      "metadata": {
        "id": "b7b7f0b9",
        "colab": {
          "base_uri": "https://localhost:8080/"
        },
        "outputId": "70ac205a-a8ac-4f3e-eab3-a1bc61855bd0"
      },
      "outputs": [
        {
          "name": "stdout",
          "output_type": "stream",
          "text": [
            "Enter the score of team batting first :140\n",
            "Enter the par score : 100\n",
            "Enter the name of First batting teamMumbai Indians\n",
            "Enter the name of Second batting teamSRH\n",
            "\n",
            "        1.Press 1 to update score\n",
            "        2.exit! :  1\n",
            "Enter the Score of Team Batting Second: 140\n",
            "Rate:  140.0\n",
            "Rate:  140.0\n",
            "Favourite:  SRH\n",
            "\n",
            "        1.Press 1 to update score\n",
            "        2.exit! :  1\n",
            "Enter the Score of Team Batting Second: 78\n",
            "Rate:  140.0\n",
            "Rate:  78.0\n",
            "Favourite:  Mumbai Indians\n",
            "\n",
            "        1.Press 1 to update score\n",
            "        2.exit! :  2\n"
          ]
        }
      ],
      "source": [
        "score_1 = int(input(\"Enter the score of team batting first :\"))\n",
        "par_score = int(input(\"Enter the par score : \"))\n",
        "team_1 = input(\"Enter the name of First batting team\")\n",
        "team_2 = input(\"Enter the name of Second batting team\")\n",
        "\n",
        "prediction = Rate(score_1,par_score,team_1,team_2)"
      ]
    },
    {
      "cell_type": "code",
      "execution_count": null,
      "id": "bb22c335",
      "metadata": {
        "id": "bb22c335"
      },
      "outputs": [],
      "source": []
    }
  ],
  "metadata": {
    "kernelspec": {
      "display_name": "Python 3 (ipykernel)",
      "language": "python",
      "name": "python3"
    },
    "language_info": {
      "codemirror_mode": {
        "name": "ipython",
        "version": 3
      },
      "file_extension": ".py",
      "mimetype": "text/x-python",
      "name": "python",
      "nbconvert_exporter": "python",
      "pygments_lexer": "ipython3",
      "version": "3.9.13"
    },
    "colab": {
      "provenance": []
    }
  },
  "nbformat": 4,
  "nbformat_minor": 5
}